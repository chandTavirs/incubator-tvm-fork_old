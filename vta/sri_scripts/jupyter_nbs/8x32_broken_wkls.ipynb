{
 "cells": [
  {
   "cell_type": "code",
   "execution_count": 1,
   "id": "45439ed9",
   "metadata": {},
   "outputs": [
    {
     "data": {
      "text/plain": [
       "34"
      ]
     },
     "execution_count": 1,
     "metadata": {},
     "output_type": "execute_result"
    }
   ],
   "source": [
    "broken = ['workload_39', 'workload_44', 'workload_46', 'workload_50', 'workload_59', 'workload_60', 'workload_62', 'workload_64', 'workload_71', 'workload_72', 'workload_77', 'workload_78', 'workload_80', 'workload_92', 'workload_99', 'workload_102', 'workload_107', 'workload_111', 'workload_113', 'workload_132', 'workload_134', 'workload_138', 'workload_139', 'workload_145', 'workload_149', 'workload_150', 'workload_171', 'workload_176', 'workload_198', 'workload_205', 'workload_206', 'workload_207', 'workload_216', 'workload_223']\n",
    "len(broken)"
   ]
  },
  {
   "cell_type": "code",
   "execution_count": 2,
   "id": "1a592fd7",
   "metadata": {},
   "outputs": [],
   "source": [
    "mobilenet_broken = ['workload_20', 'workload_21', 'workload_23', 'workload_27']"
   ]
  },
  {
   "cell_type": "code",
   "execution_count": 5,
   "id": "9e6c75d1",
   "metadata": {},
   "outputs": [
    {
     "ename": "SyntaxError",
     "evalue": "invalid syntax (369951839.py, line 1)",
     "output_type": "error",
     "traceback": [
      "\u001b[0;36m  Input \u001b[0;32mIn [5]\u001b[0;36m\u001b[0m\n\u001b[0;31m    import \"../Wkls.py\"\u001b[0m\n\u001b[0m           ^\u001b[0m\n\u001b[0;31mSyntaxError\u001b[0m\u001b[0;31m:\u001b[0m invalid syntax\n"
     ]
    }
   ],
   "source": [
    "import \"../Wkls.py\""
   ]
  },
  {
   "cell_type": "code",
   "execution_count": 1,
   "id": "e7a283a9",
   "metadata": {},
   "outputs": [
    {
     "data": {
      "text/plain": [
       "73"
      ]
     },
     "execution_count": 1,
     "metadata": {},
     "output_type": "execute_result"
    }
   ],
   "source": [
    "broken_networks_100k=['network_0_set_0', 'network_1_set_0', 'network_145_set_0', 'network_167_set_0', 'network_140_set_0', 'network_45_set_0', 'network_93_set_0', 'network_32_set_0', 'network_27_set_0', 'network_124_set_0', 'network_115_set_0', 'network_117_set_0', 'network_23_set_0', 'network_187_set_0', 'network_146_set_0', 'network_133_set_0', 'network_28_set_0', 'network_163_set_0', 'network_132_set_0', 'network_53_set_0', 'network_29_set_0', 'network_178_set_0', 'network_147_set_0', 'network_153_set_0', 'network_9_set_0', 'network_82_set_0', 'network_120_set_0', 'network_123_set_0', 'network_177_set_0', 'network_191_set_0', 'network_148_set_0', 'network_16_set_0', 'network_139_set_0', 'network_19_set_0', 'network_136_set_0', 'network_135_set_0', 'network_13_set_0', 'network_119_set_0', 'network_169_set_0', 'network_30_set_0', 'network_165_set_0', 'network_71_set_0', 'network_99_set_0', 'network_17_set_0', 'network_64_set_0', 'network_188_set_0', 'network_70_set_0', 'network_155_set_0', 'network_92_set_0', 'network_91_set_0', 'network_143_set_0', 'network_67_set_0', 'network_20_set_0', 'network_80_set_0', 'network_41_set_0', 'network_97_set_0', 'network_59_set_0', 'network_84_set_0', 'network_104_set_0', 'network_151_set_0', 'network_69_set_0', 'network_108_set_0', 'network_12_set_0', 'network_2_set_0', 'network_74_set_0', 'network_109_set_0', 'network_75_set_0', 'network_81_set_0', 'network_180_set_0', 'network_40_set_0', 'network_73_set_0', 'network_166_set_0', 'network_183_set_0']\n",
    "len(broken_networks_100k)"
   ]
  },
  {
   "cell_type": "code",
   "execution_count": 2,
   "id": "4e439cf0",
   "metadata": {},
   "outputs": [
    {
     "data": {
      "text/plain": [
       "14"
      ]
     },
     "execution_count": 2,
     "metadata": {},
     "output_type": "execute_result"
    }
   ],
   "source": [
    "broken_networks_150k = ['network_2_set_0', 'network_164_set_0', 'network_58_set_0', 'network_52_set_0', 'network_171_set_0', 'network_107_set_0', 'network_199_set_0', 'network_26_set_0', 'network_50_set_0', 'network_176_set_0', 'network_85_set_0', 'network_117_set_0', 'network_189_set_0', 'network_110_set_0']\n",
    "len(broken_networks_150k)"
   ]
  }
 ],
 "metadata": {
  "kernelspec": {
   "display_name": "Python [conda env:tvm-build-il-2] *",
   "language": "python",
   "name": "conda-env-tvm-build-il-2-py"
  },
  "language_info": {
   "codemirror_mode": {
    "name": "ipython",
    "version": 3
   },
   "file_extension": ".py",
   "mimetype": "text/x-python",
   "name": "python",
   "nbconvert_exporter": "python",
   "pygments_lexer": "ipython3",
   "version": "3.8.13"
  }
 },
 "nbformat": 4,
 "nbformat_minor": 5
}
